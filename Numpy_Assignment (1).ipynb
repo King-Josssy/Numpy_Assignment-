{
  "cells": [
    {
      "cell_type": "markdown",
      "metadata": {
        "id": "aTz0cvx7Iex3"
      },
      "source": [
        "## Numpy Assignment\n",
        "Student Name: AINOMUGISHA KING JOSSSY\n",
        "\n",
        "## Instructions:\n",
        "- Please complete the questions below.\n",
        "- for each cell, complete it with good essays and code examples\n",
        "- Please comment your code indicating how you approached the problem"
      ]
    },
    {
      "cell_type": "markdown",
      "metadata": {
        "id": "NwKEk4skG5c2"
      },
      "source": [
        "# What is NumPy, and what are some of its key features?\n"
      ]
    },
    {
      "cell_type": "markdown",
      "source": [
        "#NumPy (Numerical Python)\n",
        "- is a fundamental, open-source Python library for scientific computing used primarily for numerical computing.\n",
        "##Key Features of NumPy\n",
        "- N-Dimensional Arrays (ndarray):\n",
        "At its core, NumPy introduces the ndarray object, a powerful and efficient data structure for representing homogeneous, multi-dimensional arrays. Unlike Python lists, ndarray elements must all be of the same data type, enabling optimized memory usage and faster computations.\n",
        "- Vectorized Operations and Universal Functions (ufuncs):\n",
        "NumPy allows for element-wise operations on entire arrays without the need for explicit Python loops. These \"vectorized\" operations, often implemented as highly optimized C code, significantly enhance performance for mathematical and logical operations. Universal functions (ufuncs) are a key component of this, providing efficient element-wise operations like sin, cos, and exp.\n",
        "- Broadcasting:\n",
        "This powerful feature allows NumPy to perform operations on arrays of different shapes and sizes by automatically aligning their dimensions. This eliminates the need for manual reshaping or explicit loops when combining arrays of varying configurations, simplifying code and improving efficiency.\n",
        "- Indexing and Slicing:\n",
        "NumPy provides robust and flexible indexing and slicing capabilities, allowing users to easily access and manipulate subsets of data within arrays. This includes advanced techniques like boolean indexing and fancy indexing for selecting elements based on conditions or specific indices.\n",
        "- Linear Algebra Capabilities:\n",
        "NumPy includes a comprehensive linear algebra library, providing functions for common operations such as matrix multiplication, determinants, eigenvalues, and decompositions, essential for various scientific and machine learning applications.\n",
        "- Random Number Generation:\n",
        "NumPy offers a robust module for generating various types of random numbers and distributions, crucial for simulations, statistical analysis, and machine learning algorithms.\n",
        "- Performance Optimization:\n",
        "NumPy is optimized for performance, with many of its core routines implemented in C or C++, allowing it to handle large datasets and perform computations significantly faster than pure Python code.\n",
        "- Integration with Other Libraries:\n",
        "NumPy serves as the foundation for many other scientific computing libraries in Python, including SciPy (for scientific and technical computing), Pandas (for data analysis), and scikit-learn (for machine learning), enabling seamless data flow and analysis across different tools."
      ],
      "metadata": {
        "id": "gFO-Es8KqJMH"
      }
    },
    {
      "cell_type": "code",
      "source": [
        "import numpy as np\n",
        "\n",
        "# Create a 2D array\n",
        "a = np.array([[1, 2], [3, 4]])\n",
        "\n",
        "# Add 10 to every element\n",
        "b = a + 10\n",
        "\n",
        "# Multiply matrices\n",
        "c = np.dot(a, b.T)\n",
        "\n",
        "print(c)"
      ],
      "metadata": {
        "colab": {
          "base_uri": "https://localhost:8080/"
        },
        "id": "r5LwUH2kyUGJ",
        "outputId": "9b65bda5-4e4b-4af2-ce9c-2d83515a8b8a"
      },
      "execution_count": 2,
      "outputs": [
        {
          "output_type": "stream",
          "name": "stdout",
          "text": [
            "[[35 41]\n",
            " [81 95]]\n"
          ]
        }
      ]
    },
    {
      "cell_type": "code",
      "execution_count": 1,
      "metadata": {
        "id": "-oMn4m3YpcXd"
      },
      "outputs": [],
      "source": [
        "# to install numpy when you have python installed.\n",
        "\n",
        "#conda install numpy or\n",
        "\n",
        "#pip install numpy"
      ]
    },
    {
      "cell_type": "markdown",
      "metadata": {
        "id": "OMqoIR7oJD0i"
      },
      "source": [
        "# How do you create a NumPy array using Python's built-in range() function?\n"
      ]
    },
    {
      "cell_type": "code",
      "source": [
        "import numpy as np  # Import the NumPy library\n",
        "\n",
        "# Create a NumPy array using Python's range() from 0 to 4\n",
        "arr = np.array(range(5))\n",
        "\n",
        "# Print the resulting array\n",
        "print(arr)\n"
      ],
      "metadata": {
        "colab": {
          "base_uri": "https://localhost:8080/"
        },
        "id": "UvfPZAJ90yUa",
        "outputId": "6bb610ae-20e6-4573-a0b6-7617d2f48010"
      },
      "execution_count": 3,
      "outputs": [
        {
          "output_type": "stream",
          "name": "stdout",
          "text": [
            "[0 1 2 3 4]\n"
          ]
        }
      ]
    },
    {
      "cell_type": "markdown",
      "metadata": {
        "id": "DRVy8tPoJHQr"
      },
      "source": [
        "# What is the difference between a scalar value and a vector in NumPy?\n",
        "with code example"
      ]
    },
    {
      "cell_type": "markdown",
      "source": [
        "#Scalar\n",
        "A single value (0-dimensional array).\n",
        "\n",
        "- Has no axes or shape.\n",
        "\n",
        "- Think of it like a single number: 5, 3.14, etc.\n",
        "\n",
        "#Vector\n",
        "- A 1-dimensional array (a list of values).\n",
        "\n",
        "- Has a shape like (n,) — e.g., (3,) for 3 elements.\n",
        "\n"
      ],
      "metadata": {
        "id": "uP7Pl4q81R7j"
      }
    },
    {
      "cell_type": "code",
      "source": [
        "import numpy as np\n",
        "\n",
        "# Scalar value\n",
        "scalar = np.array(7)\n",
        "print(\"Scalar:\", scalar)\n",
        "print(\"Scalar shape:\", scalar.shape)\n",
        "print(\"Scalar ndim:\", scalar.ndim)\n",
        "\n",
        "print()\n",
        "\n",
        "# Vector (1D array)\n",
        "vector = np.array([1, 2, 3])\n",
        "print(\"Vector:\", vector)\n",
        "print(\"Vector shape:\", vector.shape)\n",
        "print(\"Vector ndim:\", vector.ndim)\n"
      ],
      "metadata": {
        "colab": {
          "base_uri": "https://localhost:8080/"
        },
        "id": "_cjWyK8v1ROC",
        "outputId": "bb1ddacf-b9a0-483a-cace-cfe0572fc41d"
      },
      "execution_count": 4,
      "outputs": [
        {
          "output_type": "stream",
          "name": "stdout",
          "text": [
            "Scalar: 7\n",
            "Scalar shape: ()\n",
            "Scalar ndim: 0\n",
            "\n",
            "Vector: [1 2 3]\n",
            "Vector shape: (3,)\n",
            "Vector ndim: 1\n"
          ]
        }
      ]
    },
    {
      "cell_type": "markdown",
      "metadata": {
        "id": "lHa-pHerJKd0"
      },
      "source": [
        "# How do you calculate the mean of a NumPy array using the mean() function?\n",
        "\n",
        "Examples\n",
        "\n"
      ]
    },
    {
      "cell_type": "code",
      "source": [
        "import numpy as np\n",
        "\n",
        "arr = np.array([10, 20, 30, 40, 50])\n",
        "\n",
        "mean_value = np.mean(arr)  # OR arr.mean()\n",
        "print(\"Mean:\", mean_value)\n"
      ],
      "metadata": {
        "colab": {
          "base_uri": "https://localhost:8080/"
        },
        "id": "wWbpl8og5bvs",
        "outputId": "a0e4ebec-963c-496d-91bd-2fb1a1a4967b"
      },
      "execution_count": 5,
      "outputs": [
        {
          "output_type": "stream",
          "name": "stdout",
          "text": [
            "Mean: 30.0\n"
          ]
        }
      ]
    },
    {
      "cell_type": "markdown",
      "metadata": {
        "id": "EqpLGTh8JON9"
      },
      "source": [
        "# What is broadcasting in NumPy, and how can it be useful?\n"
      ]
    },
    {
      "cell_type": "markdown",
      "source": [
        "##Broadcasting\n",
        "is a powerful feature in NumPy that allows arrays of different shapes and sizes to be used together in arithmetic operations without explicitly resizing them.\n",
        "##How it can be  Useful\n",
        "- Simplifies code (no need for explicit loops)\n",
        "\n",
        "- Faster computation (vectorized operations)\n",
        "\n",
        "- Memory-efficient (no extra memory copies needed"
      ],
      "metadata": {
        "id": "fSPBacbY58cW"
      }
    },
    {
      "cell_type": "markdown",
      "metadata": {
        "id": "ky661XeFpcXj"
      },
      "source": [
        "# How can you slice a NumPy array to extract a subarray?\n",
        "\n",
        "\n"
      ]
    },
    {
      "cell_type": "markdown",
      "source": [
        "- In NumPy, you can slice arrays similarly to Python lists using colons (:) to specify ranges of indices. Slicing lets you extract subarrays from 1D, 2D, or higher-dimensional arrays.\n",
        "\"array[start:stop:step]\"\n"
      ],
      "metadata": {
        "id": "1XjsxkEwaAKg"
      }
    },
    {
      "cell_type": "code",
      "source": [
        "import numpy as np\n",
        "\n",
        "arr = np.array([10, 20, 30, 40, 50, 60])\n",
        "\n",
        "subarr = arr[1:4]  # Extract elements at index 1, 2, and 3\n",
        "print(subarr)\n"
      ],
      "metadata": {
        "colab": {
          "base_uri": "https://localhost:8080/"
        },
        "id": "Da04gO8faXie",
        "outputId": "a89c5e93-e6ef-4a2e-a4ab-58c3639a3c65"
      },
      "execution_count": 1,
      "outputs": [
        {
          "output_type": "stream",
          "name": "stdout",
          "text": [
            "[20 30 40]\n"
          ]
        }
      ]
    },
    {
      "cell_type": "markdown",
      "metadata": {
        "id": "c1jTMq5AJbS2"
      },
      "source": [
        "# What are some of the available functions for performing element-wise operations on NumPy arrays?\n"
      ]
    },
    {
      "cell_type": "markdown",
      "source": [
        "## 1 Arithmetic Operations\n",
        "These are basic math operations."
      ],
      "metadata": {
        "id": "4Al5yNQLbrjB"
      }
    },
    {
      "cell_type": "code",
      "source": [
        "import numpy as np\n",
        "\n",
        "a = np.array([1, 2, 3])\n",
        "b = np.array([4, 5, 6])\n",
        "\n",
        "# Now element-wise operations will work:\n",
        "print(\"a + b =\", a + b)\n",
        "print(\"a - b =\", a - b)\n",
        "print(\"a * b =\", a * b)\n",
        "print(\"a / b =\", a / b)\n",
        "print(\"a ** 2 =\", a ** 2)\n"
      ],
      "metadata": {
        "colab": {
          "base_uri": "https://localhost:8080/"
        },
        "id": "u3iOYsx-b0zw",
        "outputId": "13b083ce-1121-4b49-e0c9-50fb3d8eb2b6"
      },
      "execution_count": 4,
      "outputs": [
        {
          "output_type": "stream",
          "name": "stdout",
          "text": [
            "a + b = [5 7 9]\n",
            "a - b = [-3 -3 -3]\n",
            "a * b = [ 4 10 18]\n",
            "a / b = [0.25 0.4  0.5 ]\n",
            "a ** 2 = [1 4 9]\n"
          ]
        }
      ]
    },
    {
      "cell_type": "markdown",
      "source": [
        "##2. Mathematical Functions\n",
        "NumPy has built-in math functions that apply to each element:"
      ],
      "metadata": {
        "id": "P1YDQ4M6cIrX"
      }
    },
    {
      "cell_type": "code",
      "source": [
        "np.sqrt(a)    # Square root\n",
        "np.exp(a)     # e^a (exponential)\n",
        "np.log(a)     # Natural log\n",
        "np.abs(a)     # Absolute value\n",
        "\n",
        "a = np.array([1, 4, 9])\n",
        "print(np.sqrt(a))  # [1. 2. 3.]\n"
      ],
      "metadata": {
        "colab": {
          "base_uri": "https://localhost:8080/"
        },
        "id": "zkrlKx1ucWJG",
        "outputId": "8a1abdd4-9b77-475b-feca-c3409716ab2e"
      },
      "execution_count": 5,
      "outputs": [
        {
          "output_type": "stream",
          "name": "stdout",
          "text": [
            "[1. 2. 3.]\n"
          ]
        }
      ]
    },
    {
      "cell_type": "markdown",
      "source": [
        "##3. Trigonometric Functions\n",
        "Apply trigonometry to each number (in radians):"
      ],
      "metadata": {
        "id": "do0alM_zdHSa"
      }
    },
    {
      "cell_type": "code",
      "source": [
        "np.sin(a)\n",
        "np.cos(a)\n",
        "np.tan(a)\n",
        "\n",
        "a = np.array([0, np.pi/2])\n",
        "print(np.sin(a))  # [0. 1.]\n"
      ],
      "metadata": {
        "colab": {
          "base_uri": "https://localhost:8080/"
        },
        "id": "xTfsYhIzdQBz",
        "outputId": "05a2af98-a48b-4b9d-984b-73cdc3b411fd"
      },
      "execution_count": 6,
      "outputs": [
        {
          "output_type": "stream",
          "name": "stdout",
          "text": [
            "[0. 1.]\n"
          ]
        }
      ]
    },
    {
      "cell_type": "markdown",
      "source": [
        "##4. Comparison Functions\n",
        "You can compare each element to a value or another array:"
      ],
      "metadata": {
        "id": "fJdgHYy2ddoo"
      }
    },
    {
      "cell_type": "code",
      "source": [
        "import numpy as np\n",
        "\n",
        "a = np.array([1, 2, 3])\n",
        "b = np.array([3, 2, 1])\n",
        "\n",
        "print(\"a > 2:\", a > 2)          # [False False  True]\n",
        "print(\"a == b:\", a == b)        # [False  True False]\n",
        "print(\"greater:\", np.greater(a, b))  # [False False  True]\n"
      ],
      "metadata": {
        "colab": {
          "base_uri": "https://localhost:8080/"
        },
        "id": "xybtbaegdjWQ",
        "outputId": "21f4956b-bee4-45aa-c793-35c625b99fe5"
      },
      "execution_count": 8,
      "outputs": [
        {
          "output_type": "stream",
          "name": "stdout",
          "text": [
            "a > 2: [False False  True]\n",
            "a == b: [False  True False]\n",
            "greater: [False False  True]\n"
          ]
        }
      ]
    },
    {
      "cell_type": "markdown",
      "source": [
        "##5. Logical Operations\n",
        "Use logical conditions with arrays:\n",
        "\"np.logical_and(a > 0, a < 3)\"\n"
      ],
      "metadata": {
        "id": "MPzaWAsueELk"
      }
    },
    {
      "cell_type": "code",
      "source": [
        "a = np.array([0, 1, 2, 3])\n",
        "print(np.logical_and(a > 0, a < 3))  # [False  True  True False]\n"
      ],
      "metadata": {
        "colab": {
          "base_uri": "https://localhost:8080/"
        },
        "id": "L9xxtVkSeHHl",
        "outputId": "53d13b72-f67a-4daf-bc35-b08f7666536d"
      },
      "execution_count": 9,
      "outputs": [
        {
          "output_type": "stream",
          "name": "stdout",
          "text": [
            "[False  True  True False]\n"
          ]
        }
      ]
    },
    {
      "cell_type": "markdown",
      "source": [
        "##6 Rounding Functions"
      ],
      "metadata": {
        "id": "B-fxt0T7eazL"
      }
    },
    {
      "cell_type": "code",
      "source": [
        "np.round(a)\n",
        "np.floor(a)\n",
        "np.ceil(a)\n",
        "\n",
        "a = np.array([1.4, 2.6])\n",
        "print(np.round(a))  # [1. 3.]\n"
      ],
      "metadata": {
        "colab": {
          "base_uri": "https://localhost:8080/"
        },
        "id": "nAkoQjhuee4Z",
        "outputId": "e7b31f55-bfd6-48dc-9e26-a526cc384d4f"
      },
      "execution_count": 10,
      "outputs": [
        {
          "output_type": "stream",
          "name": "stdout",
          "text": [
            "[1. 3.]\n"
          ]
        }
      ]
    },
    {
      "cell_type": "markdown",
      "metadata": {
        "id": "dPgmCPERJe_2"
      },
      "source": [
        "# How do you reshape a NumPy array to have a different shape?\n",
        "\n",
        "\n",
        "\n"
      ]
    },
    {
      "cell_type": "markdown",
      "source": [
        "##Reshaping a NumPy Array\n",
        "In NumPy, you can use the .reshape() method to change the shape of an array without changing its data.\n",
        "- syntax\"new_array = array.reshape(new_shape)\n",
        "\"\n",
        "- new_shape: A tuple specifying the new dimensions, like (rows, columns)\n",
        "\n",
        "- The total number of elements must stay the same before and after reshaping."
      ],
      "metadata": {
        "id": "OvDjrxufe3wn"
      }
    },
    {
      "cell_type": "code",
      "source": [
        "##Reshape 1D to 2D\n",
        "import numpy as np\n",
        "\n",
        "a = np.array([1, 2, 3, 4, 5, 6])\n",
        "\n",
        "# Reshape to 2 rows and 3 columns\n",
        "b = a.reshape(2, 3)\n",
        "\n",
        "print(\"Original array:\", a)\n",
        "print(\"Reshaped array:\\n\", b)/##\n",
        "\n",
        "\"\"\"\n",
        " ##Reshape 2D to 1D\n",
        " b = np.array([[1, 2, 3],\n",
        "              [4, 5, 6]])\n",
        "\n",
        "# Flatten to 1D\n",
        "flat = b.reshape(-1)\n",
        "print(flat)  # Output: [1 2 3 4 5 6\n",
        "\n"
      ],
      "metadata": {
        "colab": {
          "base_uri": "https://localhost:8080/"
        },
        "id": "WvJR0KGRe3iT",
        "outputId": "c3830cf9-e21e-4c8d-971a-a4763d554aed"
      },
      "execution_count": 11,
      "outputs": [
        {
          "output_type": "stream",
          "name": "stdout",
          "text": [
            "Original array: [1 2 3 4 5 6]\n",
            "Reshaped array:\n",
            " [[1 2 3]\n",
            " [4 5 6]]\n"
          ]
        }
      ]
    },
    {
      "cell_type": "markdown",
      "metadata": {
        "id": "eF4YznA2pcXm"
      },
      "source": [
        "# How do you perform matrix multiplication on two NumPy arrays using the dot() function?\n"
      ]
    },
    {
      "cell_type": "code",
      "source": [
        "import numpy as np\n",
        "\n",
        "# Example matrices\n",
        "A = np.array([[1, 2],\n",
        "              [3, 4]])\n",
        "\n",
        "B = np.array([[5, 6],\n",
        "              [7, 8]])\n",
        "\n",
        "# Matrix multiplication using dot()\n",
        "C = np.dot(A, B)\n",
        "\n",
        "print(C)\n"
      ],
      "metadata": {
        "colab": {
          "base_uri": "https://localhost:8080/"
        },
        "id": "vevkbSqRgq9B",
        "outputId": "2fe31d9a-5014-4d36-9ca7-6f63971f4dd5"
      },
      "execution_count": 12,
      "outputs": [
        {
          "output_type": "stream",
          "name": "stdout",
          "text": [
            "[[19 22]\n",
            " [43 50]]\n"
          ]
        }
      ]
    },
    {
      "cell_type": "markdown",
      "metadata": {
        "id": "JtbVS5P0Jodg"
      },
      "source": [
        "# How can you use the where() function to apply a condition to a NumPy array?\n"
      ]
    },
    {
      "cell_type": "code",
      "source": [
        "## syntax \"np.where(condition, value_if_true, value_if_false)\"\"\n",
        "import numpy as np\n",
        "\n",
        "arr = np.array([10, 20, 30, 40, 50])\n",
        "\n",
        "# Replace values greater than 30 with 1, others with 0\n",
        "result = np.where(arr > 30, 1, 0)\n",
        "\n",
        "print(result)\n"
      ],
      "metadata": {
        "colab": {
          "base_uri": "https://localhost:8080/"
        },
        "id": "U0Ykoxx9g6kw",
        "outputId": "82a2ec78-19a1-4a56-ca9f-1a9b40378533"
      },
      "execution_count": 14,
      "outputs": [
        {
          "output_type": "stream",
          "name": "stdout",
          "text": [
            "[0 0 0 1 1]\n"
          ]
        }
      ]
    },
    {
      "cell_type": "markdown",
      "metadata": {
        "id": "Z06fp2vRpcXn"
      },
      "source": [
        "# What is the difference between the flatten() and ravel() functions in NumPy?\n",
        "\n",
        "\n"
      ]
    },
    {
      "cell_type": "markdown",
      "source": [
        "# 1. flatten()\n",
        "- Returns a copy of the original array.\n",
        "\n",
        "- Changes to the result do not affect the original array.\n",
        "\n",
        "- Slightly slower due to copying"
      ],
      "metadata": {
        "id": "NHO-UQlBhXrJ"
      }
    },
    {
      "cell_type": "code",
      "source": [
        "import numpy as np\n",
        "\n",
        "a = np.array([[1, 2], [3, 4]])\n",
        "b = a.flatten()\n",
        "\n",
        "b[0] = 100\n",
        "print(\"Original:\\n\", a)\n",
        "print(\"Flattened (copy):\", b)\n"
      ],
      "metadata": {
        "colab": {
          "base_uri": "https://localhost:8080/"
        },
        "id": "6neklVGjheqZ",
        "outputId": "743a8b63-34b5-4510-830c-afc7ba7f777c"
      },
      "execution_count": 15,
      "outputs": [
        {
          "output_type": "stream",
          "name": "stdout",
          "text": [
            "Original:\n",
            " [[1 2]\n",
            " [3 4]]\n",
            "Flattened (copy): [100   2   3   4]\n"
          ]
        }
      ]
    },
    {
      "cell_type": "markdown",
      "source": [
        "##2. ravel()\n",
        "- Returns a view (if possible) of the original array.\n",
        "\n",
        "- Changes to the result may affect the original array.\n",
        "\n",
        "- Faster and uses less memory."
      ],
      "metadata": {
        "id": "RcwHEj4bhqbh"
      }
    },
    {
      "cell_type": "code",
      "source": [
        "a = np.array([[1, 2], [3, 4]])\n",
        "b = a.ravel()\n",
        "\n",
        "b[0] = 100\n",
        "print(\"Original:\\n\", a)\n",
        "print(\"Raveled (view):\", b)\n"
      ],
      "metadata": {
        "colab": {
          "base_uri": "https://localhost:8080/"
        },
        "id": "OtRS6W0Ih1Ri",
        "outputId": "16d7b250-0c24-46c1-d6c6-219714328c97"
      },
      "execution_count": 16,
      "outputs": [
        {
          "output_type": "stream",
          "name": "stdout",
          "text": [
            "Original:\n",
            " [[100   2]\n",
            " [  3   4]]\n",
            "Raveled (view): [100   2   3   4]\n"
          ]
        }
      ]
    },
    {
      "cell_type": "markdown",
      "metadata": {
        "id": "cAIxGuqopcXo"
      },
      "source": [
        "# How do you use NumPy's advanced indexing capabilities to select specific elements from an array?\n"
      ]
    },
    {
      "cell_type": "markdown",
      "source": [
        "##1. Integer array indexing\n",
        "You can pass arrays or lists of indices to select specific elements by their positions."
      ],
      "metadata": {
        "id": "Wz0zsBx9iH0y"
      }
    },
    {
      "cell_type": "code",
      "source": [
        "import numpy as np\n",
        "\n",
        "arr = np.array([10, 20, 30, 40, 50])\n",
        "\n",
        "# Select elements at indices 1, 3, and 4\n",
        "indices = [1, 3, 4]\n",
        "selected = arr[indices]\n",
        "\n",
        "print(selected)  # Output: [20 40 50]\n"
      ],
      "metadata": {
        "colab": {
          "base_uri": "https://localhost:8080/"
        },
        "id": "brLeJZaSiOgI",
        "outputId": "cf21e8e8-fad8-4d54-db8b-404094e22161"
      },
      "execution_count": 17,
      "outputs": [
        {
          "output_type": "stream",
          "name": "stdout",
          "text": [
            "[20 40 50]\n"
          ]
        }
      ]
    },
    {
      "cell_type": "markdown",
      "source": [
        "##2. Boolean indexing\n",
        "Use a boolean mask array of the same shape to pick elements where the mask is True:"
      ],
      "metadata": {
        "id": "Vd6BMw7DiY-b"
      }
    },
    {
      "cell_type": "code",
      "source": [
        "\n",
        "arr = np.array([10, 15, 20, 25, 30])\n",
        "\n",
        "mask = arr > 20\n",
        "selected = arr[mask]\n",
        "\n",
        "print(selected)  # Output: [25 30]\n"
      ],
      "metadata": {
        "colab": {
          "base_uri": "https://localhost:8080/"
        },
        "id": "CgiTbhJ1ibts",
        "outputId": "64834655-f8c4-403a-b80b-d76b37e49a24"
      },
      "execution_count": 18,
      "outputs": [
        {
          "output_type": "stream",
          "name": "stdout",
          "text": [
            "[25 30]\n"
          ]
        }
      ]
    },
    {
      "cell_type": "markdown",
      "metadata": {
        "id": "b2NpOnu2JxMp"
      },
      "source": [
        "# How can you use NumPy's broadcasting rules to perform operations on arrays with different shapes?"
      ]
    },
    {
      "cell_type": "markdown",
      "source": [
        "#How broadcasting works:\n",
        "NumPy compares the shapes of the two arrays starting from the trailing (rightmost) dimensions and works left:\n",
        "\n",
        "Dimensions are compatible when they are equal, or one of them is 1.\n",
        "\n",
        "- If compatible, NumPy “broadcasts” (repeats) the array along the dimension with size 1 to match the other.\n",
        "\n",
        "- If not compatible, it raises an error."
      ],
      "metadata": {
        "id": "aJWuIZz0iyvp"
      }
    },
    {
      "cell_type": "code",
      "source": [
        "# Scalar with array\n",
        "import numpy as np\n",
        "\n",
        "a = np.array([1, 2, 3])\n",
        "b = 5  # scalar\n",
        "\n",
        "print(a + b)  # Adds 5 to each element: [6 7 8]\n",
        "\"\"\"\n",
        "#Different shapes, but compatible\n",
        "a = np.array([[1, 2, 3],\n",
        "              [4, 5, 6]])  # shape (2,3)\n",
        "\n",
        "b = np.array([10, 20, 30])  # shape (3,)\n",
        "\n",
        "print(a + b)\n",
        "#Adding a column vector to a matrix\n",
        "a = np.array([[1, 2, 3],\n",
        "              [4, 5, 6]])  # shape (2,3)\n",
        "\n",
        "b = np.array([[10],\n",
        "              [20]])       # shape (2,1)\n",
        "\n",
        "print(a + b)\n",
        "\"\"\"\n",
        "\n",
        "\n"
      ],
      "metadata": {
        "colab": {
          "base_uri": "https://localhost:8080/",
          "height": 87
        },
        "id": "5N5AE093jDsS",
        "outputId": "4f31eaf0-6482-4216-cf3e-0e568f0b9435"
      },
      "execution_count": 26,
      "outputs": [
        {
          "output_type": "stream",
          "name": "stdout",
          "text": [
            "[6 7 8]\n"
          ]
        },
        {
          "output_type": "execute_result",
          "data": {
            "text/plain": [
              "'\\n#Different shapes, but compatible\\na = np.array([[1, 2, 3],\\n              [4, 5, 6]])  # shape (2,3)\\n\\nb = np.array([10, 20, 30])  # shape (3,)\\n\\nprint(a + b)\\n#Adding a column vector to a matrix\\na = np.array([[1, 2, 3],\\n              [4, 5, 6]])  # shape (2,3)\\n\\nb = np.array([[10],\\n              [20]])       # shape (2,1)\\n\\nprint(a + b)\\n'"
            ],
            "application/vnd.google.colaboratory.intrinsic+json": {
              "type": "string"
            }
          },
          "metadata": {},
          "execution_count": 26
        }
      ]
    },
    {
      "cell_type": "markdown",
      "metadata": {
        "id": "XgeHrSj7KzTj"
      },
      "source": [
        "### Project: Array Statistics Calculator\n",
        "**Description:**\n",
        "\n",
        "In this project, you will create a program that allows a user to enter a list of numbers, and then calculates and displays various statistics about those numbers using NumPy.\n",
        "\n",
        "**Requirements:**\n",
        "\n",
        "- The program should prompt the user to enter a list of numbers separated by commas.\n",
        "- The program should use NumPy to convert the input into a 1D NumPy array.\n",
        "- The program should calculate and display the following statistics:\n",
        "- The mean of the numbers\n",
        "- The median of the numbers\n",
        "- The standard deviation of the numbers\n",
        "- The maximum and minimum values of the numbers\n",
        "- The program should use appropriate NumPy functions to calculate the statistics.\n",
        "- The program should display the statistics with appropriate labels.\n",
        "\n",
        "### Sample Output\n",
        "```\n",
        "Enter a list of numbers separated by commas: 2, 5, 7, 3, 1, 9\n",
        "Statistics for the input array:\n",
        "Mean: 4.5\n",
        "Median: 4.0\n",
        "Standard Deviation: 2.9154759474226504\n",
        "Maximum: 9\n",
        "Minimum: 1\n",
        "```"
      ]
    },
    {
      "cell_type": "code",
      "source": [
        "import numpy as np\n",
        "\n",
        "def main():\n",
        "    # Prompt user to enter numbers separated by commas\n",
        "    user_input = input(\"Enter a list of numbers separated by commas: \")\n",
        "\n",
        "    # Convert input string to list of floats\n",
        "    try:\n",
        "        numbers_list = [float(num.strip()) for num in user_input.split(',')]\n",
        "    except ValueError:\n",
        "        print(\"Error: Please enter valid numbers separated by commas.\")\n",
        "        return\n",
        "\n",
        "    # Convert list to 1D NumPy array\n",
        "    arr = np.array(numbers_list)\n",
        "\n",
        "    # Calculate statistics using NumPy functions\n",
        "    mean = np.mean(arr)\n",
        "    median = np.median(arr)\n",
        "    std_dev = np.std(arr)\n",
        "    maximum = np.max(arr)\n",
        "    minimum = np.min(arr)\n",
        "\n",
        "    # Display the results\n",
        "    print(\"\\nStatistics for the input array:\")\n",
        "    print(f\"Mean: {mean}\")\n",
        "    print(f\"Median: {median}\")\n",
        "    print(f\"Standard Deviation: {std_dev}\")\n",
        "    print(f\"Maximum: {maximum}\")\n",
        "    print(f\"Minimum: {minimum}\")\n",
        "\n",
        "if __name__ == \"__main__\":\n",
        "    main()\n"
      ],
      "metadata": {
        "colab": {
          "base_uri": "https://localhost:8080/"
        },
        "id": "SFDnFAHukUMX",
        "outputId": "28dda811-b73c-4220-b36e-0fbe348590c1"
      },
      "execution_count": 27,
      "outputs": [
        {
          "output_type": "stream",
          "name": "stdout",
          "text": [
            "Enter a list of numbers separated by commas: 1,2\n",
            "\n",
            "Statistics for the input array:\n",
            "Mean: 1.5\n",
            "Median: 1.5\n",
            "Standard Deviation: 0.5\n",
            "Maximum: 2.0\n",
            "Minimum: 1.0\n"
          ]
        }
      ]
    }
  ],
  "metadata": {
    "colab": {
      "provenance": []
    },
    "kernelspec": {
      "display_name": "Python 3",
      "name": "python3"
    },
    "language_info": {
      "codemirror_mode": {
        "name": "ipython",
        "version": 3
      },
      "file_extension": ".py",
      "mimetype": "text/x-python",
      "name": "python",
      "nbconvert_exporter": "python",
      "pygments_lexer": "ipython3",
      "version": "3.9.13"
    }
  },
  "nbformat": 4,
  "nbformat_minor": 0
}